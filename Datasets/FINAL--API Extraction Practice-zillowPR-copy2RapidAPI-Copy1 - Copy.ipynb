{
 "cells": [
  {
   "cell_type": "code",
   "execution_count": 2,
   "id": "3ddc01ab",
   "metadata": {},
   "outputs": [],
   "source": [
    "#Import Libraries\n",
    "import requests\n",
    "from requests import get\n",
    "import pandas as pd\n",
    "import json\n",
    "import bs4"
   ]
  },
  {
   "cell_type": "code",
   "execution_count": 3,
   "id": "9edb7ade",
   "metadata": {},
   "outputs": [],
   "source": [
    "#Specify Zillow api key & Initialize list named Houses\n",
    "apikey=\"X1-ZWz1irnrykh62z_4dboj\"\n",
    "houses= []"
   ]
  },
  {
   "cell_type": "code",
   "execution_count": 12,
   "id": "12fe1be7",
   "metadata": {
    "scrolled": false
   },
   "outputs": [
    {
     "name": "stdout",
     "output_type": "stream",
     "text": [
      "[{\"bathrooms\":1,\"bedrooms\":1,\"miniCardPhotos\":[{\"url\":\"https:\\/\\/photos.zillowstatic.com\\/fp\\/42ecd238b16d775f98dd59200a7073fb-p_c.jpg\"}],\"zpid\":2090170449,\"longitude\":-66.11643,\"latitude\":18.466173,\"address\":{\"city\":\"San Juan\",\"state\":\"PR\",\"streetAddress\":\"152 Calle Luna #2B\",\"zipcode\":\"00917\"},\"homeStatus\":\"FOR_RENT\",\"livingArea\":null,\"homeType\":\"APARTMENT\",\"livingAreaUnits\":null,\"currency\":\"USD\",\"price\":2475},{\"bathrooms\":2,\"bedrooms\":2,\"miniCardPhotos\":[{\"url\":\"https:\\/\\/photos.zillowstatic.com\\/fp\\/e3ff04313eb21ae16155a55eae99a91f-p_c.jpg\"}],\"zpid\":2068710500,\"longitude\":-66.057495,\"latitude\":18.451313,\"address\":{\"city\":\"San Juan\",\"state\":\"PR\",\"streetAddress\":\"2019 Calle Cacique #1\",\"zipcode\":\"00911\"},\"homeStatus\":\"FOR_RENT\",\"livingArea\":null,\"homeType\":\"APARTMENT\",\"livingAreaUnits\":null,\"currency\":\"USD\",\"price\":3400},{\"bathrooms\":1,\"bedrooms\":2,\"miniCardPhotos\":[{\"url\":\"https:\\/\\/photos.zillowstatic.com\\/fp\\/a75450d2de115efd6f528b56048e127d-p_c.jpg\"}],\"zpid\":2065733445,\"longitude\":-66.057495,\"latitude\":18.451313,\"address\":{\"city\":\"San Juan\",\"state\":\"PR\",\"streetAddress\":\"1563 Calle Lopez Landron\",\"zipcode\":\"00911\"},\"homeStatus\":\"FOR_RENT\",\"livingArea\":1300,\"homeType\":\"APARTMENT\",\"livingAreaUnits\":\"Square Feet\",\"currency\":\"USD\",\"price\":2500},{\"bathrooms\":1.5,\"bedrooms\":2,\"miniCardPhotos\":[{\"url\":\"https:\\/\\/photos.zillowstatic.com\\/fp\\/a60f5f48400209710532f3c1b9b1f2c7-p_c.jpg\"}],\"zpid\":2077472499,\"longitude\":-66.113914,\"latitude\":18.46526,\"address\":{\"city\":\"San Juan\",\"state\":\"PR\",\"streetAddress\":\"306 Calle De La Fortaleza #3\",\"zipcode\":\"00901\"},\"homeStatus\":\"FOR_RENT\",\"livingArea\":950,\"homeType\":\"APARTMENT\",\"livingAreaUnits\":\"Square Feet\",\"currency\":\"USD\",\"price\":2550},{\"bathrooms\":1.5,\"bedrooms\":1,\"miniCardPhotos\":[{\"url\":\"https:\\/\\/photos.zillowstatic.com\\/fp\\/d3c9c669a6f848cb0566cf82590b74aa-p_c.jpg\"}],\"zpid\":2068723185,\"longitude\":-66.105064,\"latitude\":18.465149,\"address\":{\"city\":\"San Juan\",\"state\":\"PR\",\"streetAddress\":\"203 Calle Del Recinto #1\",\"zipcode\":\"00901\"},\"homeStatus\":\"FOR_RENT\",\"livingArea\":null,\"homeType\":\"APARTMENT\",\"livingAreaUnits\":null,\"currency\":\"USD\",\"price\":3100},{\"bathrooms\":2,\"bedrooms\":3,\"miniCardPhotos\":[{\"url\":\"https:\\/\\/photos.zillowstatic.com\\/fp\\/7f414111951a59530ff53dcfa26b3458-p_c.jpg\"}],\"zpid\":2067841052,\"longitude\":-66.08449,\"latitude\":18.452929,\"address\":{\"city\":\"San Juan\",\"state\":\"PR\",\"streetAddress\":\"604 Calle Cerra #3B\",\"zipcode\":\"00907\"},\"homeStatus\":\"FOR_RENT\",\"livingArea\":null,\"homeType\":\"APARTMENT\",\"livingAreaUnits\":null,\"currency\":\"USD\",\"price\":3200},{\"bathrooms\":2,\"bedrooms\":2,\"miniCardPhotos\":[{\"url\":\"https:\\/\\/photos.zillowstatic.com\\/fp\\/04adfc277feb851dee202e793261a08c-p_c.jpg\"}],\"zpid\":2065694475,\"longitude\":-66.08449,\"latitude\":18.452929,\"address\":{\"city\":\"San Juan\",\"state\":\"PR\",\"streetAddress\":\"561 Calle Ensenada #9B\",\"zipcode\":\"00907\"},\"homeStatus\":\"FOR_RENT\",\"livingArea\":1308,\"homeType\":\"CONDO\",\"livingAreaUnits\":\"Square Feet\",\"currency\":\"USD\",\"price\":2980},{\"bathrooms\":1,\"bedrooms\":1,\"miniCardPhotos\":[{\"url\":\"https:\\/\\/photos.zillowstatic.com\\/fp\\/04045b8e441f6b8b23925cc7c23ba75a-p_c.jpg\"}],\"zpid\":2063382904,\"longitude\":-66.01017,\"latitude\":18.436432,\"address\":{\"city\":\"Carolina\",\"state\":\"PR\",\"streetAddress\":\"6049 Avenue Isla Verde Cond La Posada #1-03\",\"zipcode\":\"00979\"},\"homeStatus\":\"FOR_RENT\",\"livingArea\":500,\"homeType\":\"CONDO\",\"livingAreaUnits\":\"Square Feet\",\"currency\":\"USD\",\"price\":2500}]\n"
     ]
    }
   ],
   "source": [
    "#Specify url link\n",
    "\n",
    "url = \"https://zillow-com1.p.rapidapi.com/similarForRent\"\n",
    "\n",
    "querystring = {\"zpid\":\"2068707821\"}\n",
    "\n",
    "headers = {\n",
    "\t\"X-RapidAPI-Host\": \"zillow-com1.p.rapidapi.com\",\n",
    "\t\"X-RapidAPI-Key\": \"d90b6cbfd2msh4f358be332bacd5p1dbe43jsnafb103c6c029\"\n",
    "}\n",
    "\n",
    "h = requests.request(\"GET\", url, headers=headers, params=querystring)\n",
    "\n",
    "def clean(text):\n",
    "    if text:\n",
    "        return ' '.join(' '.join(text).split())\n",
    "    return None\n",
    "\n",
    "print(h.text)"
   ]
  },
  {
   "cell_type": "code",
   "execution_count": 13,
   "id": "71b63ee7",
   "metadata": {},
   "outputs": [
    {
     "name": "stdout",
     "output_type": "stream",
     "text": [
      "[{'bathrooms': 1, 'bedrooms': 1, 'miniCardPhotos': [{'url': 'https://photos.zillowstatic.com/fp/42ecd238b16d775f98dd59200a7073fb-p_c.jpg'}], 'zpid': 2090170449, 'longitude': -66.11643, 'latitude': 18.466173, 'address': {'city': 'San Juan', 'state': 'PR', 'streetAddress': '152 Calle Luna #2B', 'zipcode': '00917'}, 'homeStatus': 'FOR_RENT', 'livingArea': None, 'homeType': 'APARTMENT', 'livingAreaUnits': None, 'currency': 'USD', 'price': 2475}, {'bathrooms': 2, 'bedrooms': 2, 'miniCardPhotos': [{'url': 'https://photos.zillowstatic.com/fp/e3ff04313eb21ae16155a55eae99a91f-p_c.jpg'}], 'zpid': 2068710500, 'longitude': -66.057495, 'latitude': 18.451313, 'address': {'city': 'San Juan', 'state': 'PR', 'streetAddress': '2019 Calle Cacique #1', 'zipcode': '00911'}, 'homeStatus': 'FOR_RENT', 'livingArea': None, 'homeType': 'APARTMENT', 'livingAreaUnits': None, 'currency': 'USD', 'price': 3400}, {'bathrooms': 1, 'bedrooms': 2, 'miniCardPhotos': [{'url': 'https://photos.zillowstatic.com/fp/a75450d2de115efd6f528b56048e127d-p_c.jpg'}], 'zpid': 2065733445, 'longitude': -66.057495, 'latitude': 18.451313, 'address': {'city': 'San Juan', 'state': 'PR', 'streetAddress': '1563 Calle Lopez Landron', 'zipcode': '00911'}, 'homeStatus': 'FOR_RENT', 'livingArea': 1300, 'homeType': 'APARTMENT', 'livingAreaUnits': 'Square Feet', 'currency': 'USD', 'price': 2500}, {'bathrooms': 1.5, 'bedrooms': 2, 'miniCardPhotos': [{'url': 'https://photos.zillowstatic.com/fp/a60f5f48400209710532f3c1b9b1f2c7-p_c.jpg'}], 'zpid': 2077472499, 'longitude': -66.113914, 'latitude': 18.46526, 'address': {'city': 'San Juan', 'state': 'PR', 'streetAddress': '306 Calle De La Fortaleza #3', 'zipcode': '00901'}, 'homeStatus': 'FOR_RENT', 'livingArea': 950, 'homeType': 'APARTMENT', 'livingAreaUnits': 'Square Feet', 'currency': 'USD', 'price': 2550}, {'bathrooms': 1.5, 'bedrooms': 1, 'miniCardPhotos': [{'url': 'https://photos.zillowstatic.com/fp/d3c9c669a6f848cb0566cf82590b74aa-p_c.jpg'}], 'zpid': 2068723185, 'longitude': -66.105064, 'latitude': 18.465149, 'address': {'city': 'San Juan', 'state': 'PR', 'streetAddress': '203 Calle Del Recinto #1', 'zipcode': '00901'}, 'homeStatus': 'FOR_RENT', 'livingArea': None, 'homeType': 'APARTMENT', 'livingAreaUnits': None, 'currency': 'USD', 'price': 3100}, {'bathrooms': 2, 'bedrooms': 3, 'miniCardPhotos': [{'url': 'https://photos.zillowstatic.com/fp/7f414111951a59530ff53dcfa26b3458-p_c.jpg'}], 'zpid': 2067841052, 'longitude': -66.08449, 'latitude': 18.452929, 'address': {'city': 'San Juan', 'state': 'PR', 'streetAddress': '604 Calle Cerra #3B', 'zipcode': '00907'}, 'homeStatus': 'FOR_RENT', 'livingArea': None, 'homeType': 'APARTMENT', 'livingAreaUnits': None, 'currency': 'USD', 'price': 3200}, {'bathrooms': 2, 'bedrooms': 2, 'miniCardPhotos': [{'url': 'https://photos.zillowstatic.com/fp/04adfc277feb851dee202e793261a08c-p_c.jpg'}], 'zpid': 2065694475, 'longitude': -66.08449, 'latitude': 18.452929, 'address': {'city': 'San Juan', 'state': 'PR', 'streetAddress': '561 Calle Ensenada #9B', 'zipcode': '00907'}, 'homeStatus': 'FOR_RENT', 'livingArea': 1308, 'homeType': 'CONDO', 'livingAreaUnits': 'Square Feet', 'currency': 'USD', 'price': 2980}, {'bathrooms': 1, 'bedrooms': 1, 'miniCardPhotos': [{'url': 'https://photos.zillowstatic.com/fp/04045b8e441f6b8b23925cc7c23ba75a-p_c.jpg'}], 'zpid': 2063382904, 'longitude': -66.01017, 'latitude': 18.436432, 'address': {'city': 'Carolina', 'state': 'PR', 'streetAddress': '6049 Avenue Isla Verde Cond La Posada #1-03', 'zipcode': '00979'}, 'homeStatus': 'FOR_RENT', 'livingArea': 500, 'homeType': 'CONDO', 'livingAreaUnits': 'Square Feet', 'currency': 'USD', 'price': 2500}]\n"
     ]
    }
   ],
   "source": [
    "raw_json_data=print(h.json())"
   ]
  },
  {
   "cell_type": "code",
   "execution_count": 28,
   "id": "53ae0a7c",
   "metadata": {},
   "outputs": [
    {
     "name": "stdout",
     "output_type": "stream",
     "text": [
      "[{'bathrooms': 1, 'bedrooms': 1, 'miniCardPhotos': [{'url': 'https://photos.zillowstatic.com/fp/42ecd238b16d775f98dd59200a7073fb-p_c.jpg'}], 'zpid': 2090170449, 'longitude': -66.11643, 'latitude': 18.466173, 'address': {'city': 'San Juan', 'state': 'PR', 'streetAddress': '152 Calle Luna #2B', 'zipcode': '00917'}, 'homeStatus': 'FOR_RENT', 'livingArea': None, 'homeType': 'APARTMENT', 'livingAreaUnits': None, 'currency': 'USD', 'price': 2475}, {'bathrooms': 2, 'bedrooms': 2, 'miniCardPhotos': [{'url': 'https://photos.zillowstatic.com/fp/e3ff04313eb21ae16155a55eae99a91f-p_c.jpg'}], 'zpid': 2068710500, 'longitude': -66.057495, 'latitude': 18.451313, 'address': {'city': 'San Juan', 'state': 'PR', 'streetAddress': '2019 Calle Cacique #1', 'zipcode': '00911'}, 'homeStatus': 'FOR_RENT', 'livingArea': None, 'homeType': 'APARTMENT', 'livingAreaUnits': None, 'currency': 'USD', 'price': 3400}, {'bathrooms': 1, 'bedrooms': 2, 'miniCardPhotos': [{'url': 'https://photos.zillowstatic.com/fp/a75450d2de115efd6f528b56048e127d-p_c.jpg'}], 'zpid': 2065733445, 'longitude': -66.057495, 'latitude': 18.451313, 'address': {'city': 'San Juan', 'state': 'PR', 'streetAddress': '1563 Calle Lopez Landron', 'zipcode': '00911'}, 'homeStatus': 'FOR_RENT', 'livingArea': 1300, 'homeType': 'APARTMENT', 'livingAreaUnits': 'Square Feet', 'currency': 'USD', 'price': 2500}, {'bathrooms': 1.5, 'bedrooms': 2, 'miniCardPhotos': [{'url': 'https://photos.zillowstatic.com/fp/a60f5f48400209710532f3c1b9b1f2c7-p_c.jpg'}], 'zpid': 2077472499, 'longitude': -66.113914, 'latitude': 18.46526, 'address': {'city': 'San Juan', 'state': 'PR', 'streetAddress': '306 Calle De La Fortaleza #3', 'zipcode': '00901'}, 'homeStatus': 'FOR_RENT', 'livingArea': 950, 'homeType': 'APARTMENT', 'livingAreaUnits': 'Square Feet', 'currency': 'USD', 'price': 2550}, {'bathrooms': 1.5, 'bedrooms': 1, 'miniCardPhotos': [{'url': 'https://photos.zillowstatic.com/fp/d3c9c669a6f848cb0566cf82590b74aa-p_c.jpg'}], 'zpid': 2068723185, 'longitude': -66.105064, 'latitude': 18.465149, 'address': {'city': 'San Juan', 'state': 'PR', 'streetAddress': '203 Calle Del Recinto #1', 'zipcode': '00901'}, 'homeStatus': 'FOR_RENT', 'livingArea': None, 'homeType': 'APARTMENT', 'livingAreaUnits': None, 'currency': 'USD', 'price': 3100}, {'bathrooms': 2, 'bedrooms': 3, 'miniCardPhotos': [{'url': 'https://photos.zillowstatic.com/fp/7f414111951a59530ff53dcfa26b3458-p_c.jpg'}], 'zpid': 2067841052, 'longitude': -66.08449, 'latitude': 18.452929, 'address': {'city': 'San Juan', 'state': 'PR', 'streetAddress': '604 Calle Cerra #3B', 'zipcode': '00907'}, 'homeStatus': 'FOR_RENT', 'livingArea': None, 'homeType': 'APARTMENT', 'livingAreaUnits': None, 'currency': 'USD', 'price': 3200}, {'bathrooms': 2, 'bedrooms': 2, 'miniCardPhotos': [{'url': 'https://photos.zillowstatic.com/fp/04adfc277feb851dee202e793261a08c-p_c.jpg'}], 'zpid': 2065694475, 'longitude': -66.08449, 'latitude': 18.452929, 'address': {'city': 'San Juan', 'state': 'PR', 'streetAddress': '561 Calle Ensenada #9B', 'zipcode': '00907'}, 'homeStatus': 'FOR_RENT', 'livingArea': 1308, 'homeType': 'CONDO', 'livingAreaUnits': 'Square Feet', 'currency': 'USD', 'price': 2980}, {'bathrooms': 1, 'bedrooms': 1, 'miniCardPhotos': [{'url': 'https://photos.zillowstatic.com/fp/04045b8e441f6b8b23925cc7c23ba75a-p_c.jpg'}], 'zpid': 2063382904, 'longitude': -66.01017, 'latitude': 18.436432, 'address': {'city': 'Carolina', 'state': 'PR', 'streetAddress': '6049 Avenue Isla Verde Cond La Posada #1-03', 'zipcode': '00979'}, 'homeStatus': 'FOR_RENT', 'livingArea': 500, 'homeType': 'CONDO', 'livingAreaUnits': 'Square Feet', 'currency': 'USD', 'price': 2500}]\n"
     ]
    }
   ],
   "source": [
    "print(h.json())"
   ]
  },
  {
   "cell_type": "code",
   "execution_count": 29,
   "id": "2bb36b51",
   "metadata": {},
   "outputs": [],
   "source": [
    "houses.append(h.json())"
   ]
  },
  {
   "cell_type": "code",
   "execution_count": 30,
   "id": "d5e27305",
   "metadata": {},
   "outputs": [
    {
     "data": {
      "text/plain": [
       "[<Response [200]>,\n",
       " <Response [200]>,\n",
       " <Response [200]>,\n",
       " '[{\"bathrooms\":1,\"bedrooms\":1,\"miniCardPhotos\":[{\"url\":\"https:\\\\/\\\\/photos.zillowstatic.com\\\\/fp\\\\/42ecd238b16d775f98dd59200a7073fb-p_c.jpg\"}],\"zpid\":2090170449,\"longitude\":-66.11643,\"latitude\":18.466173,\"address\":{\"city\":\"San Juan\",\"state\":\"PR\",\"streetAddress\":\"152 Calle Luna #2B\",\"zipcode\":\"00917\"},\"homeStatus\":\"FOR_RENT\",\"livingArea\":null,\"homeType\":\"APARTMENT\",\"livingAreaUnits\":null,\"currency\":\"USD\",\"price\":2475},{\"bathrooms\":2,\"bedrooms\":2,\"miniCardPhotos\":[{\"url\":\"https:\\\\/\\\\/photos.zillowstatic.com\\\\/fp\\\\/e3ff04313eb21ae16155a55eae99a91f-p_c.jpg\"}],\"zpid\":2068710500,\"longitude\":-66.057495,\"latitude\":18.451313,\"address\":{\"city\":\"San Juan\",\"state\":\"PR\",\"streetAddress\":\"2019 Calle Cacique #1\",\"zipcode\":\"00911\"},\"homeStatus\":\"FOR_RENT\",\"livingArea\":null,\"homeType\":\"APARTMENT\",\"livingAreaUnits\":null,\"currency\":\"USD\",\"price\":3400},{\"bathrooms\":1,\"bedrooms\":2,\"miniCardPhotos\":[{\"url\":\"https:\\\\/\\\\/photos.zillowstatic.com\\\\/fp\\\\/a75450d2de115efd6f528b56048e127d-p_c.jpg\"}],\"zpid\":2065733445,\"longitude\":-66.057495,\"latitude\":18.451313,\"address\":{\"city\":\"San Juan\",\"state\":\"PR\",\"streetAddress\":\"1563 Calle Lopez Landron\",\"zipcode\":\"00911\"},\"homeStatus\":\"FOR_RENT\",\"livingArea\":1300,\"homeType\":\"APARTMENT\",\"livingAreaUnits\":\"Square Feet\",\"currency\":\"USD\",\"price\":2500},{\"bathrooms\":1.5,\"bedrooms\":2,\"miniCardPhotos\":[{\"url\":\"https:\\\\/\\\\/photos.zillowstatic.com\\\\/fp\\\\/a60f5f48400209710532f3c1b9b1f2c7-p_c.jpg\"}],\"zpid\":2077472499,\"longitude\":-66.113914,\"latitude\":18.46526,\"address\":{\"city\":\"San Juan\",\"state\":\"PR\",\"streetAddress\":\"306 Calle De La Fortaleza #3\",\"zipcode\":\"00901\"},\"homeStatus\":\"FOR_RENT\",\"livingArea\":950,\"homeType\":\"APARTMENT\",\"livingAreaUnits\":\"Square Feet\",\"currency\":\"USD\",\"price\":2550},{\"bathrooms\":1.5,\"bedrooms\":1,\"miniCardPhotos\":[{\"url\":\"https:\\\\/\\\\/photos.zillowstatic.com\\\\/fp\\\\/d3c9c669a6f848cb0566cf82590b74aa-p_c.jpg\"}],\"zpid\":2068723185,\"longitude\":-66.105064,\"latitude\":18.465149,\"address\":{\"city\":\"San Juan\",\"state\":\"PR\",\"streetAddress\":\"203 Calle Del Recinto #1\",\"zipcode\":\"00901\"},\"homeStatus\":\"FOR_RENT\",\"livingArea\":null,\"homeType\":\"APARTMENT\",\"livingAreaUnits\":null,\"currency\":\"USD\",\"price\":3100},{\"bathrooms\":2,\"bedrooms\":3,\"miniCardPhotos\":[{\"url\":\"https:\\\\/\\\\/photos.zillowstatic.com\\\\/fp\\\\/7f414111951a59530ff53dcfa26b3458-p_c.jpg\"}],\"zpid\":2067841052,\"longitude\":-66.08449,\"latitude\":18.452929,\"address\":{\"city\":\"San Juan\",\"state\":\"PR\",\"streetAddress\":\"604 Calle Cerra #3B\",\"zipcode\":\"00907\"},\"homeStatus\":\"FOR_RENT\",\"livingArea\":null,\"homeType\":\"APARTMENT\",\"livingAreaUnits\":null,\"currency\":\"USD\",\"price\":3200},{\"bathrooms\":2,\"bedrooms\":2,\"miniCardPhotos\":[{\"url\":\"https:\\\\/\\\\/photos.zillowstatic.com\\\\/fp\\\\/04adfc277feb851dee202e793261a08c-p_c.jpg\"}],\"zpid\":2065694475,\"longitude\":-66.08449,\"latitude\":18.452929,\"address\":{\"city\":\"San Juan\",\"state\":\"PR\",\"streetAddress\":\"561 Calle Ensenada #9B\",\"zipcode\":\"00907\"},\"homeStatus\":\"FOR_RENT\",\"livingArea\":1308,\"homeType\":\"CONDO\",\"livingAreaUnits\":\"Square Feet\",\"currency\":\"USD\",\"price\":2980},{\"bathrooms\":1,\"bedrooms\":1,\"miniCardPhotos\":[{\"url\":\"https:\\\\/\\\\/photos.zillowstatic.com\\\\/fp\\\\/04045b8e441f6b8b23925cc7c23ba75a-p_c.jpg\"}],\"zpid\":2063382904,\"longitude\":-66.01017,\"latitude\":18.436432,\"address\":{\"city\":\"Carolina\",\"state\":\"PR\",\"streetAddress\":\"6049 Avenue Isla Verde Cond La Posada #1-03\",\"zipcode\":\"00979\"},\"homeStatus\":\"FOR_RENT\",\"livingArea\":500,\"homeType\":\"CONDO\",\"livingAreaUnits\":\"Square Feet\",\"currency\":\"USD\",\"price\":2500}]',\n",
       " [{'bathrooms': 1,\n",
       "   'bedrooms': 1,\n",
       "   'miniCardPhotos': [{'url': 'https://photos.zillowstatic.com/fp/42ecd238b16d775f98dd59200a7073fb-p_c.jpg'}],\n",
       "   'zpid': 2090170449,\n",
       "   'longitude': -66.11643,\n",
       "   'latitude': 18.466173,\n",
       "   'address': {'city': 'San Juan',\n",
       "    'state': 'PR',\n",
       "    'streetAddress': '152 Calle Luna #2B',\n",
       "    'zipcode': '00917'},\n",
       "   'homeStatus': 'FOR_RENT',\n",
       "   'livingArea': None,\n",
       "   'homeType': 'APARTMENT',\n",
       "   'livingAreaUnits': None,\n",
       "   'currency': 'USD',\n",
       "   'price': 2475},\n",
       "  {'bathrooms': 2,\n",
       "   'bedrooms': 2,\n",
       "   'miniCardPhotos': [{'url': 'https://photos.zillowstatic.com/fp/e3ff04313eb21ae16155a55eae99a91f-p_c.jpg'}],\n",
       "   'zpid': 2068710500,\n",
       "   'longitude': -66.057495,\n",
       "   'latitude': 18.451313,\n",
       "   'address': {'city': 'San Juan',\n",
       "    'state': 'PR',\n",
       "    'streetAddress': '2019 Calle Cacique #1',\n",
       "    'zipcode': '00911'},\n",
       "   'homeStatus': 'FOR_RENT',\n",
       "   'livingArea': None,\n",
       "   'homeType': 'APARTMENT',\n",
       "   'livingAreaUnits': None,\n",
       "   'currency': 'USD',\n",
       "   'price': 3400},\n",
       "  {'bathrooms': 1,\n",
       "   'bedrooms': 2,\n",
       "   'miniCardPhotos': [{'url': 'https://photos.zillowstatic.com/fp/a75450d2de115efd6f528b56048e127d-p_c.jpg'}],\n",
       "   'zpid': 2065733445,\n",
       "   'longitude': -66.057495,\n",
       "   'latitude': 18.451313,\n",
       "   'address': {'city': 'San Juan',\n",
       "    'state': 'PR',\n",
       "    'streetAddress': '1563 Calle Lopez Landron',\n",
       "    'zipcode': '00911'},\n",
       "   'homeStatus': 'FOR_RENT',\n",
       "   'livingArea': 1300,\n",
       "   'homeType': 'APARTMENT',\n",
       "   'livingAreaUnits': 'Square Feet',\n",
       "   'currency': 'USD',\n",
       "   'price': 2500},\n",
       "  {'bathrooms': 1.5,\n",
       "   'bedrooms': 2,\n",
       "   'miniCardPhotos': [{'url': 'https://photos.zillowstatic.com/fp/a60f5f48400209710532f3c1b9b1f2c7-p_c.jpg'}],\n",
       "   'zpid': 2077472499,\n",
       "   'longitude': -66.113914,\n",
       "   'latitude': 18.46526,\n",
       "   'address': {'city': 'San Juan',\n",
       "    'state': 'PR',\n",
       "    'streetAddress': '306 Calle De La Fortaleza #3',\n",
       "    'zipcode': '00901'},\n",
       "   'homeStatus': 'FOR_RENT',\n",
       "   'livingArea': 950,\n",
       "   'homeType': 'APARTMENT',\n",
       "   'livingAreaUnits': 'Square Feet',\n",
       "   'currency': 'USD',\n",
       "   'price': 2550},\n",
       "  {'bathrooms': 1.5,\n",
       "   'bedrooms': 1,\n",
       "   'miniCardPhotos': [{'url': 'https://photos.zillowstatic.com/fp/d3c9c669a6f848cb0566cf82590b74aa-p_c.jpg'}],\n",
       "   'zpid': 2068723185,\n",
       "   'longitude': -66.105064,\n",
       "   'latitude': 18.465149,\n",
       "   'address': {'city': 'San Juan',\n",
       "    'state': 'PR',\n",
       "    'streetAddress': '203 Calle Del Recinto #1',\n",
       "    'zipcode': '00901'},\n",
       "   'homeStatus': 'FOR_RENT',\n",
       "   'livingArea': None,\n",
       "   'homeType': 'APARTMENT',\n",
       "   'livingAreaUnits': None,\n",
       "   'currency': 'USD',\n",
       "   'price': 3100},\n",
       "  {'bathrooms': 2,\n",
       "   'bedrooms': 3,\n",
       "   'miniCardPhotos': [{'url': 'https://photos.zillowstatic.com/fp/7f414111951a59530ff53dcfa26b3458-p_c.jpg'}],\n",
       "   'zpid': 2067841052,\n",
       "   'longitude': -66.08449,\n",
       "   'latitude': 18.452929,\n",
       "   'address': {'city': 'San Juan',\n",
       "    'state': 'PR',\n",
       "    'streetAddress': '604 Calle Cerra #3B',\n",
       "    'zipcode': '00907'},\n",
       "   'homeStatus': 'FOR_RENT',\n",
       "   'livingArea': None,\n",
       "   'homeType': 'APARTMENT',\n",
       "   'livingAreaUnits': None,\n",
       "   'currency': 'USD',\n",
       "   'price': 3200},\n",
       "  {'bathrooms': 2,\n",
       "   'bedrooms': 2,\n",
       "   'miniCardPhotos': [{'url': 'https://photos.zillowstatic.com/fp/04adfc277feb851dee202e793261a08c-p_c.jpg'}],\n",
       "   'zpid': 2065694475,\n",
       "   'longitude': -66.08449,\n",
       "   'latitude': 18.452929,\n",
       "   'address': {'city': 'San Juan',\n",
       "    'state': 'PR',\n",
       "    'streetAddress': '561 Calle Ensenada #9B',\n",
       "    'zipcode': '00907'},\n",
       "   'homeStatus': 'FOR_RENT',\n",
       "   'livingArea': 1308,\n",
       "   'homeType': 'CONDO',\n",
       "   'livingAreaUnits': 'Square Feet',\n",
       "   'currency': 'USD',\n",
       "   'price': 2980},\n",
       "  {'bathrooms': 1,\n",
       "   'bedrooms': 1,\n",
       "   'miniCardPhotos': [{'url': 'https://photos.zillowstatic.com/fp/04045b8e441f6b8b23925cc7c23ba75a-p_c.jpg'}],\n",
       "   'zpid': 2063382904,\n",
       "   'longitude': -66.01017,\n",
       "   'latitude': 18.436432,\n",
       "   'address': {'city': 'Carolina',\n",
       "    'state': 'PR',\n",
       "    'streetAddress': '6049 Avenue Isla Verde Cond La Posada #1-03',\n",
       "    'zipcode': '00979'},\n",
       "   'homeStatus': 'FOR_RENT',\n",
       "   'livingArea': 500,\n",
       "   'homeType': 'CONDO',\n",
       "   'livingAreaUnits': 'Square Feet',\n",
       "   'currency': 'USD',\n",
       "   'price': 2500}]]"
      ]
     },
     "execution_count": 30,
     "metadata": {},
     "output_type": "execute_result"
    }
   ],
   "source": [
    "houses"
   ]
  },
  {
   "cell_type": "code",
   "execution_count": 20,
   "id": "c388bfb6",
   "metadata": {},
   "outputs": [],
   "source": [
    "def get_data_from_json(raw_json_data):\n",
    "    # getting data from json \n",
    "\n",
    "    cleaned_data = clean(raw_json_data).replace('<!--', \"\").replace(\"-->\", \"\")\n",
    "    \n",
    "    properties_list = []\n",
    "\n",
    "    try:\n",
    "        json_data = json.loads(cleaned_data)\n",
    "        search_results = json_data.get('searchResults').get('listResults', [])\n",
    "\n",
    "        for properties in search_results:\n",
    "            address = properties.get('addressWithZip')\n",
    "            property_info = properties.get('hdpData', {}).get('homeInfo')\n",
    "            city = property_info.get('city')\n",
    "            state = property_info.get('state')\n",
    "            postal_code = property_info.get('zipcode')\n",
    "            price = properties.get('price')\n",
    "            bedrooms = properties.get('beds')\n",
    "            bathrooms = properties.get('baths')\n",
    "            area = properties.get('area')\n",
    "            info = f'{bedrooms} bds, {bathrooms} ba ,{area} sqft'\n",
    "            broker = properties.get('brokerName')\n",
    "            property_url = properties.get('detailUrl')\n",
    "            title = properties.get('statusText')\n",
    "\n",
    "            data = {'address': address,\n",
    "                    'city': city,\n",
    "                    'state': state,\n",
    "                    'postal_code': postal_code,\n",
    "                    'price': price,\n",
    "                    'facts and features': info,\n",
    "                    'real estate provider': broker,\n",
    "                    'url': property_url,\n",
    "                    'title': title}\n",
    "            properties_list.append(data)\n",
    "\n",
    "        return properties_list\n",
    "\n",
    "    except ValueError:\n",
    "        print(\"Invalid json\")\n",
    "        return None"
   ]
  },
  {
   "cell_type": "code",
   "execution_count": 21,
   "id": "806315c5",
   "metadata": {},
   "outputs": [
    {
     "ename": "NameError",
     "evalue": "name 'properties_list' is not defined",
     "output_type": "error",
     "traceback": [
      "\u001b[1;31m---------------------------------------------------------------------------\u001b[0m",
      "\u001b[1;31mNameError\u001b[0m                                 Traceback (most recent call last)",
      "\u001b[1;32m~\\AppData\\Local\\Temp/ipykernel_17028/1711318901.py\u001b[0m in \u001b[0;36m<module>\u001b[1;34m\u001b[0m\n\u001b[1;32m----> 1\u001b[1;33m \u001b[0mprint\u001b[0m \u001b[1;33m(\u001b[0m\u001b[0mproperties_list\u001b[0m\u001b[1;33m)\u001b[0m\u001b[1;33m\u001b[0m\u001b[1;33m\u001b[0m\u001b[0m\n\u001b[0m",
      "\u001b[1;31mNameError\u001b[0m: name 'properties_list' is not defined"
     ]
    }
   ],
   "source": [
    "print (properties_list)"
   ]
  },
  {
   "cell_type": "code",
   "execution_count": null,
   "id": "f491243d",
   "metadata": {},
   "outputs": [],
   "source": [
    "requests.get(\n",
    "...     'https://api.github.com/search/repositories',\n",
    "...     params=b'q=requests+language:python',\n",
    "... )"
   ]
  },
  {
   "cell_type": "code",
   "execution_count": null,
   "id": "a42f0c0a",
   "metadata": {},
   "outputs": [],
   "source": [
    "print(dir(response))"
   ]
  },
  {
   "cell_type": "code",
   "execution_count": null,
   "id": "c141e227",
   "metadata": {
    "scrolled": false
   },
   "outputs": [],
   "source": [
    "print(help(response))"
   ]
  },
  {
   "cell_type": "code",
   "execution_count": null,
   "id": "2f3820b8",
   "metadata": {},
   "outputs": [],
   "source": []
  },
  {
   "cell_type": "code",
   "execution_count": null,
   "id": "bbc22b96",
   "metadata": {},
   "outputs": [],
   "source": [
    "parsed=json.loads(response)"
   ]
  },
  {
   "cell_type": "code",
   "execution_count": null,
   "id": "4ef7e8ea",
   "metadata": {},
   "outputs": [],
   "source": []
  }
 ],
 "metadata": {
  "kernelspec": {
   "display_name": "Python 3 (ipykernel)",
   "language": "python",
   "name": "python3"
  },
  "language_info": {
   "codemirror_mode": {
    "name": "ipython",
    "version": 3
   },
   "file_extension": ".py",
   "mimetype": "text/x-python",
   "name": "python",
   "nbconvert_exporter": "python",
   "pygments_lexer": "ipython3",
   "version": "3.9.7"
  }
 },
 "nbformat": 4,
 "nbformat_minor": 5
}

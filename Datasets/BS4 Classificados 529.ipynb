{
 "cells": [
  {
   "cell_type": "code",
   "execution_count": 1,
   "id": "b523599e",
   "metadata": {},
   "outputs": [],
   "source": [
    "# Import Splinter and BeautifulSoup\n",
    "from splinter import Browser\n",
    "from bs4 import BeautifulSoup as soup\n",
    "from webdriver_manager.chrome import ChromeDriverManager\n",
    "import pandas as pd\n",
    "import requests\n",
    "from requests import get"
   ]
  },
  {
   "cell_type": "code",
   "execution_count": 2,
   "id": "fd94c84b",
   "metadata": {},
   "outputs": [
    {
     "name": "stdout",
     "output_type": "stream",
     "text": [
      "\n"
     ]
    },
    {
     "name": "stderr",
     "output_type": "stream",
     "text": [
      "[WDM] - ====== WebDriver manager ======\n",
      "[WDM] - Current google-chrome version is 102.0.5005\n",
      "[WDM] - Get LATEST chromedriver version for 102.0.5005 google-chrome\n",
      "[WDM] - Driver [C:\\Users\\La'Cha\\.wdm\\drivers\\chromedriver\\win32\\102.0.5005.61\\chromedriver.exe] found in cache\n"
     ]
    }
   ],
   "source": [
    "# Set up Splinter\n",
    "executable_path = {'executable_path': ChromeDriverManager().install()}\n",
    "browser = Browser('chrome', **executable_path, headless=False)"
   ]
  },
  {
   "cell_type": "code",
   "execution_count": 3,
   "id": "4654078b",
   "metadata": {},
   "outputs": [],
   "source": [
    "# Visit the Quotes to Scrape site\n",
    "url = 'https://clasificadospr.com/listings/bienes-raices/puerto-rico-area-metro?filters%5Boffering%5D=rent'\n",
    "browser.visit(url)"
   ]
  },
  {
   "cell_type": "code",
   "execution_count": 4,
   "id": "38efce99",
   "metadata": {},
   "outputs": [],
   "source": [
    "# Parse the HTML\n",
    "html = browser.html\n",
    "html_soup = soup(html, 'html.parser')"
   ]
  },
  {
   "cell_type": "code",
   "execution_count": 7,
   "id": "b63cf245",
   "metadata": {},
   "outputs": [],
   "source": [
    "houses = []\n",
    "\n",
    "for x in range (1,22)  :\n",
    "    html = browser.html\n",
    "    rent_soup = soup(html, 'html.parser')\n",
    "    rentals = rent_soup.find_all('div', class_ = 'cold-md-4 card-text_listing-location card-text')\n",
    "    for rent in rentals:\n",
    "        print('page:', x, '----------')\n",
    "        print(rentals.text)\n",
    "    browser.links.find_by_partial_text('>').click()"
   ]
  },
  {
   "cell_type": "code",
   "execution_count": null,
   "id": "4a61ccae",
   "metadata": {},
   "outputs": [],
   "source": [
    "\n"
   ]
  },
  {
   "cell_type": "code",
   "execution_count": null,
   "id": "992668c8",
   "metadata": {},
   "outputs": [],
   "source": []
  },
  {
   "cell_type": "code",
   "execution_count": null,
   "id": "b9aa0480",
   "metadata": {},
   "outputs": [],
   "source": [
    "print (url)\n",
    "response= get(html)\n"
   ]
  },
  {
   "cell_type": "code",
   "execution_count": null,
   "id": "274573d7",
   "metadata": {},
   "outputs": [],
   "source": [
    "while count <= 30:\n",
    "\n",
    "for x in range(1, 28)if count == 1:\n",
    "   html = browser.html\n",
    "   rent_soup = soup(html, 'html.parser')\n",
    "   alquiers = rent_soup.find_all('div', class_ = 'cold-md-4 card-text_listing-location card-text')\n",
    "\n",
    "elif count != 1:\n",
    "    url + str(count)\n",
    "    print(url)\n",
    "    response = get(url)\n",
    "    rent_soup = BeautifulSoup(response.text, 'html.parser')\n",
    "    print(response)\n",
    "        \n",
    "        \n",
    "for alquier in alquiers:\n",
    "      print('page:', x, '----------')\n",
    "      print(alquiers.text)\n",
    "browser.type('>','>>').click()"
   ]
  },
  {
   "cell_type": "markdown",
   "id": "91061ae7",
   "metadata": {},
   "source": [
    "### Kinda worked"
   ]
  },
  {
   "cell_type": "code",
   "execution_count": null,
   "id": "cd538cb8",
   "metadata": {},
   "outputs": [],
   "source": [
    "#Kinda worked\n",
    "count = 1\n",
    "while count <= 30:\n",
    "\n",
    "    if count == 1:\n",
    "       html = browser.html\n",
    "       rent_soup = soup(html, 'html.parser')\n",
    "       alquiers = rent_soup.find_all('div', class_ = 'cold-md-4 card-text_listing-location card-text')\n",
    "\n",
    "    elif count != 1:\n",
    "        url + str(count)\n",
    "        print(url)\n",
    "        response = get(url)\n",
    "        rent_soup = BeautifulSoup(response.text, 'html.parser')\n",
    "        print(response)\n",
    "        \n",
    "    else:\n",
    "            print('empty')\n",
    "            break\n",
    "        \n",
    "        \n",
    "for alquier in alquiers:\n",
    "      print('page:', x, '----------')\n",
    "      print(alquiers.text)\n",
    "browser.type('>').click()"
   ]
  },
  {
   "cell_type": "code",
   "execution_count": null,
   "id": "afeeac91",
   "metadata": {},
   "outputs": [],
   "source": []
  }
 ],
 "metadata": {
  "kernelspec": {
   "display_name": "Python 3 (ipykernel)",
   "language": "python",
   "name": "python3"
  },
  "language_info": {
   "codemirror_mode": {
    "name": "ipython",
    "version": 3
   },
   "file_extension": ".py",
   "mimetype": "text/x-python",
   "name": "python",
   "nbconvert_exporter": "python",
   "pygments_lexer": "ipython3",
   "version": "3.9.7"
  }
 },
 "nbformat": 4,
 "nbformat_minor": 5
}
